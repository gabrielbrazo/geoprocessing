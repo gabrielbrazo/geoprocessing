{
  "nbformat": 4,
  "nbformat_minor": 0,
  "metadata": {
    "colab": {
      "provenance": [],
      "authorship_tag": "ABX9TyOpDtV4DMruO53s5VI45NFL",
      "include_colab_link": true
    },
    "kernelspec": {
      "name": "python3",
      "display_name": "Python 3"
    },
    "language_info": {
      "name": "python"
    }
  },
  "cells": [
    {
      "cell_type": "markdown",
      "metadata": {
        "id": "view-in-github",
        "colab_type": "text"
      },
      "source": [
        "<a href=\"https://colab.research.google.com/github/gabrielbrazo/geoprocessing/blob/main/Intersecting_layers.ipynb\" target=\"_parent\"><img src=\"https://colab.research.google.com/assets/colab-badge.svg\" alt=\"Open In Colab\"/></a>"
      ]
    },
    {
      "cell_type": "markdown",
      "source": [
        "# Intersection of layers\n",
        "## Verifying the intersection of a layer with a build \"geo-base\" under a loop perspective\n",
        "<br>\n",
        "\n",
        "Created by [Gabriel Brazo](mailto:gbrazo@id.uff.br)<br>\n",
        "\n",
        "The program here shown was idealized in the need to verify if a point, multiPoint, line, multiLine, polygon or multiPolygon layer intersects others wihin a base list with a huge amount of layers, optimizing the manual process.<br>\n",
        "\n",
        "\n",
        "With this file saved, you can import it into your python environment in the way that suits you. Since this work was done in Google Colab, the chosen method was \"gdown\". The process that takes places is the conversion of the html file into a csv one, where the columns of the html \"table\" shall be the columns of the final csv file.<br>\n",
        "Thereby, we will finally obtain the complete result. For this, we may use those pre-estabilished groups as the parameter for defining sum intervals. In this notebook we'll use as example the slope intervals of 0-3%, 3-6% and 6-12%.<br>\n",
        "\n",
        "**Finally, let's jump into the program**"
      ],
      "metadata": {
        "id": "B4HfV7iI3OoM"
      }
    },
    {
      "cell_type": "code",
      "source": [
        "#Importing what is needed\n",
        "import geopandas as gpd\n",
        "import pandas as pd\n",
        "import numpy as np"
      ],
      "metadata": {
        "id": "gQt9jyyifwlQ"
      },
      "execution_count": null,
      "outputs": []
    },
    {
      "cell_type": "code",
      "source": [
        "#First things first\n",
        "#The first step of this process is to build a list with the geodata of interest.\n",
        "#The importing process is up to you, so feel free to use gdown, or direct file path\n",
        "#The geolist here built will be the base whereas your aim file will be checked for interesection with the list files\n",
        "\n",
        "geolist = []"
      ],
      "metadata": {
        "id": "9R8Tf8clfD-j"
      },
      "execution_count": null,
      "outputs": []
    },
    {
      "cell_type": "code",
      "source": [
        "def c_crs(geobase,X):\n",
        "    \"\"\" \n",
        "    The function described here is intended to establish the projection system \n",
        "    of the layers used in the checking process, since it is important to \n",
        "    standardizethis system so that there are no divergences and the intersection\n",
        "    verification process occurs without damage.\n",
        "    Here, we use the \"geobase\" parameter as the layer or list of layers that \n",
        "    will go through the projection change process, and the \"X\" parameter as the \n",
        "    crs system to which the conversion will be performed.\n",
        "    \"\"\"\n",
        "    if type(geobase) == list:\n",
        "      if geobase == geolist: \n",
        "        for i in range(len(geolist)):\n",
        "          geolist[i] = geolist[i].to_crs(X)\n",
        "        print('CRS changed to:',X)\n",
        "    if not(type(geobase) == list):\n",
        "        print('Try the direct use of \".to_crs\"()')\n",
        "    \n",
        "    return"
      ],
      "metadata": {
        "id": "gm96SBvYhGH_"
      },
      "execution_count": null,
      "outputs": []
    },
    {
      "cell_type": "code",
      "source": [
        "def p_check(layer):\n",
        "    \"\"\" \n",
        "    The function described here checks if there is a intersection of any kind \n",
        "    beteween the input layer, defined here as \"layer\", and the previously built \n",
        "    geobase, returning which of the geobase layers intersects with the input layer\n",
        "    \"\"\"\n",
        "\n",
        "    print('Intersecting layers:')\n",
        "    for i in range(len(geolist)):\n",
        "      cont = 0\n",
        "      cont2 = 0\n",
        "      check = np.array(layer.intersects(geolist[i]))\n",
        "      for j in range(check.size):\n",
        "        if check[j] == True:\n",
        "          cont = cont+1\n",
        "      if cont>0:\n",
        "        cont2 = cont2+1\n",
        "        print(geolist[i])\n",
        "    if cont2 == 0:\n",
        "      print('Não há interseção com a base de dados')\n",
        "\n",
        "    return"
      ],
      "metadata": {
        "id": "VptMfwt0ia17"
      },
      "execution_count": null,
      "outputs": []
    }
  ]
}